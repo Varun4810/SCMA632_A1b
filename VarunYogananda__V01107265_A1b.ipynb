{
 "cells": [
  {
   "cell_type": "code",
   "execution_count": 1,
   "id": "9d35296f",
   "metadata": {
    "ExecuteTime": {
     "end_time": "2024-06-17T18:40:55.517191Z",
     "start_time": "2024-06-17T18:40:55.501554Z"
    }
   },
   "outputs": [],
   "source": [
    "import os\n",
    "import pandas as pd\n",
    "import numpy as np\n",
    "import matplotlib.pyplot as plt\n",
    "import seaborn as sns"
   ]
  },
  {
   "cell_type": "code",
   "execution_count": 2,
   "id": "ccea5d65",
   "metadata": {
    "ExecuteTime": {
     "end_time": "2024-06-17T18:41:02.872798Z",
     "start_time": "2024-06-17T18:41:02.864783Z"
    }
   },
   "outputs": [
    {
     "ename": "SyntaxError",
     "evalue": "(unicode error) 'unicodeescape' codec can't decode bytes in position 2-3: truncated \\UXXXXXXXX escape (3875128486.py, line 1)",
     "output_type": "error",
     "traceback": [
      "\u001b[1;36m  Cell \u001b[1;32mIn[2], line 1\u001b[1;36m\u001b[0m\n\u001b[1;33m    os.chdir('C:\\Users\\varun\\Downloads\\scma- A1b')\u001b[0m\n\u001b[1;37m                                                 ^\u001b[0m\n\u001b[1;31mSyntaxError\u001b[0m\u001b[1;31m:\u001b[0m (unicode error) 'unicodeescape' codec can't decode bytes in position 2-3: truncated \\UXXXXXXXX escape\n"
     ]
    }
   ],
   "source": [
    "os.chdir('C:\\Users\\varun\\Downloads\\scma- A1b')"
   ]
  },
  {
   "cell_type": "code",
   "execution_count": null,
   "id": "4e18af9c",
   "metadata": {
    "ExecuteTime": {
     "end_time": "2024-06-17T18:45:43.893820Z",
     "start_time": "2024-06-17T18:45:41.588693Z"
    }
   },
   "outputs": [],
   "source": [
    "ipl_bbb = pd.read_csv('IPL_ball_by_ball_updated till 2024.csv',low_memory=False)"
   ]
  },
  {
   "cell_type": "code",
   "execution_count": null,
   "id": "c9f1dae5",
   "metadata": {
    "ExecuteTime": {
     "end_time": "2024-06-17T18:42:45.099983Z",
     "start_time": "2024-06-17T18:42:44.158183Z"
    }
   },
   "outputs": [],
   "source": [
    "ipl_salary = pd.read_excel('IPL SALARIES 2024.xlsx')"
   ]
  },
  {
   "cell_type": "code",
   "execution_count": null,
   "id": "890ec4e9",
   "metadata": {
    "ExecuteTime": {
     "end_time": "2024-06-17T20:11:18.415809Z",
     "start_time": "2024-06-17T20:11:18.401437Z"
    }
   },
   "outputs": [],
   "source": [
    "ipl_salary.head(2)"
   ]
  },
  {
   "cell_type": "code",
   "execution_count": null,
   "id": "00ad1fbf",
   "metadata": {
    "ExecuteTime": {
     "end_time": "2024-06-17T18:47:30.678527Z",
     "start_time": "2024-06-17T18:47:30.373074Z"
    }
   },
   "outputs": [],
   "source": [
    "grouped_data = ipl_bbb.groupby(['Season', 'Innings No', 'Striker','Bowler']).agg({'runs_scored': sum, 'wicket_confirmation':sum}).reset_index()"
   ]
  },
  {
   "cell_type": "code",
   "execution_count": null,
   "id": "331874aa",
   "metadata": {
    "ExecuteTime": {
     "end_time": "2024-06-17T18:50:49.018065Z",
     "start_time": "2024-06-17T18:50:48.948158Z"
    }
   },
   "outputs": [],
   "source": [
    "player_runs = grouped_data.groupby(['Season', 'Striker'])['runs_scored'].sum().reset_index()\n",
    "player_wickets = grouped_data.groupby(['Season', 'Bowler'])['wicket_confirmation'].sum().reset_index()"
   ]
  },
  {
   "cell_type": "code",
   "execution_count": null,
   "id": "91b9ac8b",
   "metadata": {
    "ExecuteTime": {
     "end_time": "2024-06-17T18:52:26.118735Z",
     "start_time": "2024-06-17T18:52:26.083040Z"
    }
   },
   "outputs": [],
   "source": [
    "player_runs[player_runs['Season']=='2023'].sort_values(by='runs_scored',ascending=False)"
   ]
  },
  {
   "cell_type": "code",
   "execution_count": null,
   "id": "42fc1a03",
   "metadata": {
    "ExecuteTime": {
     "end_time": "2024-06-17T18:54:34.052611Z",
     "start_time": "2024-06-17T18:54:33.921973Z"
    }
   },
   "outputs": [],
   "source": [
    "top_run_getters = player_runs.groupby('Season').apply(lambda x: x.nlargest(3, 'runs_scored')).reset_index(drop=True)\n",
    "bottom_wicket_takers = player_wickets.groupby('Season').apply(lambda x: x.nlargest(3, 'wicket_confirmation')).reset_index(drop=True)\n",
    "print(\"Top Three Run Getters:\")\n",
    "print(top_run_getters)\n",
    "print(\"Top Three Wicket Takers:\")\n",
    "print(bottom_wicket_takers)"
   ]
  },
  {
   "cell_type": "code",
   "execution_count": null,
   "id": "1d8cefcb",
   "metadata": {
    "ExecuteTime": {
     "end_time": "2024-06-17T18:59:43.066908Z",
     "start_time": "2024-06-17T18:59:42.895193Z"
    },
    "scrolled": true
   },
   "outputs": [],
   "source": [
    "ipl_year_id = pd.DataFrame(columns=[\"id\", \"year\"])\n",
    "ipl_year_id[\"id\"] = ipl_bbb[\"Match id\"]\n",
    "ipl_year_id[\"year\"] = pd.to_datetime(ipl_bbb[\"Date\"], dayfirst=True).dt.year"
   ]
  },
  {
   "cell_type": "code",
   "execution_count": null,
   "id": "1ca892df",
   "metadata": {
    "ExecuteTime": {
     "end_time": "2024-06-17T19:08:09.199794Z",
     "start_time": "2024-06-17T19:08:09.036239Z"
    }
   },
   "outputs": [],
   "source": [
    "#create a copy of ipl_bbbc dataframe\n",
    "ipl_bbbc= ipl_bbb.copy()"
   ]
  },
  {
   "cell_type": "code",
   "execution_count": null,
   "id": "05e04474",
   "metadata": {
    "ExecuteTime": {
     "end_time": "2024-06-17T19:08:28.976414Z",
     "start_time": "2024-06-17T19:08:28.839397Z"
    }
   },
   "outputs": [],
   "source": [
    "ipl_bbbc['year'] = pd.to_datetime(ipl_bbb[\"Date\"], dayfirst=True).dt.year"
   ]
  },
  {
   "cell_type": "code",
   "execution_count": null,
   "id": "695a2d7f",
   "metadata": {
    "ExecuteTime": {
     "end_time": "2024-06-17T19:09:02.819985Z",
     "start_time": "2024-06-17T19:09:02.760242Z"
    }
   },
   "outputs": [],
   "source": [
    "ipl_bbbc[[\"Match id\", \"year\", \"runs_scored\",\"wicket_confirmation\",\"Bowler\",'Striker']].head()"
   ]
  },
  {
   "cell_type": "code",
   "execution_count": null,
   "id": "85783410",
   "metadata": {
    "ExecuteTime": {
     "end_time": "2024-06-17T19:11:39.865256Z",
     "start_time": "2024-06-17T19:11:39.853673Z"
    }
   },
   "outputs": [],
   "source": [
    "import scipy.stats as st\n",
    "\n",
    "def get_best_distribution(data):\n",
    "    dist_names = ['alpha','beta','betaprime','burr12','crystalball',\n",
    "                  'dgamma','dweibull','erlang','exponnorm','f','fatiguelife',\n",
    "                  'gamma','gengamma','gumbel_l','johnsonsb','kappa4',\n",
    "                  'lognorm','nct','norm','norminvgauss','powernorm','rice',\n",
    "                  'recipinvgauss','t','trapz','truncnorm']\n",
    "    dist_results = []\n",
    "    params = {}\n",
    "    for dist_name in dist_names:\n",
    "        dist = getattr(st, dist_name)\n",
    "        param = dist.fit(data)\n",
    "        params[dist_name] = param\n",
    "        # Applying the Kolmogorov-Smirnov test\n",
    "        D, p = st.kstest(data, dist_name, args=param)\n",
    "        print(\"p value for \"+dist_name+\" = \"+str(p))\n",
    "        dist_results.append((dist_name, p))\n",
    "    # select the best fitted distribution\n",
    "    best_dist, best_p = (max(dist_results, key=lambda item: item[1]))\n",
    "    # store the name of the best fit and its p value\n",
    "    print(\"\\nBest fitting distribution: \"+str(best_dist))\n",
    "    print(\"Best p value: \"+ str(best_p))\n",
    "    print(\"Parameters for the best fit: \"+ str(params[best_dist]))\n",
    "    return best_dist, best_p, params[best_dist]"
   ]
  },
  {
   "cell_type": "code",
   "execution_count": null,
   "id": "55e15b78",
   "metadata": {
    "ExecuteTime": {
     "end_time": "2024-06-17T19:12:26.492491Z",
     "start_time": "2024-06-17T19:12:26.388891Z"
    }
   },
   "outputs": [],
   "source": [
    "total_run_each_year = ipl_bbbc.groupby([\"year\", \"Striker\"])[\"runs_scored\"].sum().reset_index()"
   ]
  },
  {
   "cell_type": "code",
   "execution_count": 3,
   "id": "7ddf1dfe",
   "metadata": {
    "ExecuteTime": {
     "end_time": "2024-06-17T19:13:56.257180Z",
     "start_time": "2024-06-17T19:13:56.244475Z"
    }
   },
   "outputs": [
    {
     "ename": "NameError",
     "evalue": "name 'total_run_each_year' is not defined",
     "output_type": "error",
     "traceback": [
      "\u001b[1;31m---------------------------------------------------------------------------\u001b[0m",
      "\u001b[1;31mNameError\u001b[0m                                 Traceback (most recent call last)",
      "Cell \u001b[1;32mIn[3], line 1\u001b[0m\n\u001b[1;32m----> 1\u001b[0m total_run_each_year\u001b[38;5;241m.\u001b[39msort_values([\u001b[38;5;124m\"\u001b[39m\u001b[38;5;124myear\u001b[39m\u001b[38;5;124m\"\u001b[39m, \u001b[38;5;124m\"\u001b[39m\u001b[38;5;124mruns_scored\u001b[39m\u001b[38;5;124m\"\u001b[39m], ascending\u001b[38;5;241m=\u001b[39m\u001b[38;5;28;01mFalse\u001b[39;00m, inplace\u001b[38;5;241m=\u001b[39m\u001b[38;5;28;01mTrue\u001b[39;00m)\n\u001b[0;32m      2\u001b[0m \u001b[38;5;28mprint\u001b[39m(total_run_each_year)\n",
      "\u001b[1;31mNameError\u001b[0m: name 'total_run_each_year' is not defined"
     ]
    }
   ],
   "source": [
    "total_run_each_year.sort_values([\"year\", \"runs_scored\"], ascending=False, inplace=True)\n",
    "print(total_run_each_year)"
   ]
  },
  {
   "cell_type": "code",
   "execution_count": 4,
   "id": "d75c7310",
   "metadata": {
    "ExecuteTime": {
     "end_time": "2024-06-17T19:16:23.864219Z",
     "start_time": "2024-06-17T19:16:23.854326Z"
    }
   },
   "outputs": [
    {
     "ename": "NameError",
     "evalue": "name 'total_run_each_year' is not defined",
     "output_type": "error",
     "traceback": [
      "\u001b[1;31m---------------------------------------------------------------------------\u001b[0m",
      "\u001b[1;31mNameError\u001b[0m                                 Traceback (most recent call last)",
      "Cell \u001b[1;32mIn[4], line 2\u001b[0m\n\u001b[0;32m      1\u001b[0m list_top_batsman_last_three_year \u001b[38;5;241m=\u001b[39m {}\n\u001b[1;32m----> 2\u001b[0m \u001b[38;5;28;01mfor\u001b[39;00m i \u001b[38;5;129;01min\u001b[39;00m total_run_each_year[\u001b[38;5;124m\"\u001b[39m\u001b[38;5;124myear\u001b[39m\u001b[38;5;124m\"\u001b[39m]\u001b[38;5;241m.\u001b[39munique()[:\u001b[38;5;241m3\u001b[39m]:\n\u001b[0;32m      3\u001b[0m     list_top_batsman_last_three_year[i] \u001b[38;5;241m=\u001b[39m total_run_each_year[total_run_each_year\u001b[38;5;241m.\u001b[39myear \u001b[38;5;241m==\u001b[39m i][:\u001b[38;5;241m3\u001b[39m][\u001b[38;5;124m\"\u001b[39m\u001b[38;5;124mStriker\u001b[39m\u001b[38;5;124m\"\u001b[39m]\u001b[38;5;241m.\u001b[39munique()\u001b[38;5;241m.\u001b[39mtolist()\n",
      "\u001b[1;31mNameError\u001b[0m: name 'total_run_each_year' is not defined"
     ]
    }
   ],
   "source": [
    "list_top_batsman_last_three_year = {}\n",
    "for i in total_run_each_year[\"year\"].unique()[:3]:\n",
    "    list_top_batsman_last_three_year[i] = total_run_each_year[total_run_each_year.year == i][:3][\"Striker\"].unique().tolist()"
   ]
  },
  {
   "cell_type": "code",
   "execution_count": 5,
   "id": "c5b07d43",
   "metadata": {
    "ExecuteTime": {
     "end_time": "2024-06-17T19:16:29.605035Z",
     "start_time": "2024-06-17T19:16:29.596636Z"
    }
   },
   "outputs": [
    {
     "data": {
      "text/plain": [
       "{}"
      ]
     },
     "execution_count": 5,
     "metadata": {},
     "output_type": "execute_result"
    }
   ],
   "source": [
    "list_top_batsman_last_three_year"
   ]
  },
  {
   "cell_type": "code",
   "execution_count": 6,
   "id": "80d9466a",
   "metadata": {
    "ExecuteTime": {
     "end_time": "2024-06-17T19:22:35.982497Z",
     "start_time": "2024-06-17T19:21:10.039474Z"
    }
   },
   "outputs": [
    {
     "ename": "NameError",
     "evalue": "name 'ipl_bbbc' is not defined",
     "output_type": "error",
     "traceback": [
      "\u001b[1;31m---------------------------------------------------------------------------\u001b[0m",
      "\u001b[1;31mNameError\u001b[0m                                 Traceback (most recent call last)",
      "Cell \u001b[1;32mIn[6], line 3\u001b[0m\n\u001b[0;32m      1\u001b[0m \u001b[38;5;28;01mimport\u001b[39;00m \u001b[38;5;21;01mwarnings\u001b[39;00m\n\u001b[0;32m      2\u001b[0m warnings\u001b[38;5;241m.\u001b[39mfilterwarnings(\u001b[38;5;124m'\u001b[39m\u001b[38;5;124mignore\u001b[39m\u001b[38;5;124m'\u001b[39m)\n\u001b[1;32m----> 3\u001b[0m runs \u001b[38;5;241m=\u001b[39m ipl_bbbc\u001b[38;5;241m.\u001b[39mgroupby([\u001b[38;5;124m'\u001b[39m\u001b[38;5;124mStriker\u001b[39m\u001b[38;5;124m'\u001b[39m,\u001b[38;5;124m'\u001b[39m\u001b[38;5;124mMatch id\u001b[39m\u001b[38;5;124m'\u001b[39m])[[\u001b[38;5;124m'\u001b[39m\u001b[38;5;124mruns_scored\u001b[39m\u001b[38;5;124m'\u001b[39m]]\u001b[38;5;241m.\u001b[39msum()\u001b[38;5;241m.\u001b[39mreset_index()\n\u001b[0;32m      5\u001b[0m \u001b[38;5;28;01mfor\u001b[39;00m key \u001b[38;5;129;01min\u001b[39;00m list_top_batsman_last_three_year:\n\u001b[0;32m      6\u001b[0m     \u001b[38;5;28;01mfor\u001b[39;00m Striker \u001b[38;5;129;01min\u001b[39;00m list_top_batsman_last_three_year[key]:\n",
      "\u001b[1;31mNameError\u001b[0m: name 'ipl_bbbc' is not defined"
     ]
    }
   ],
   "source": [
    "import warnings\n",
    "warnings.filterwarnings('ignore')\n",
    "runs = ipl_bbbc.groupby(['Striker','Match id'])[['runs_scored']].sum().reset_index()\n",
    "\n",
    "for key in list_top_batsman_last_three_year:\n",
    "    for Striker in list_top_batsman_last_three_year[key]:\n",
    "        print(\"************************\")\n",
    "        print(\"year:\", key, \" Batsman:\", Striker)\n",
    "        get_best_distribution(runs[runs[\"Striker\"] == Striker][\"runs_scored\"])\n",
    "        print(\"\\n\\n\")"
   ]
  },
  {
   "cell_type": "code",
   "execution_count": 7,
   "id": "2ff8cda8",
   "metadata": {
    "ExecuteTime": {
     "end_time": "2024-06-17T19:22:49.634423Z",
     "start_time": "2024-06-17T19:22:49.547942Z"
    }
   },
   "outputs": [
    {
     "ename": "NameError",
     "evalue": "name 'ipl_bbbc' is not defined",
     "output_type": "error",
     "traceback": [
      "\u001b[1;31m---------------------------------------------------------------------------\u001b[0m",
      "\u001b[1;31mNameError\u001b[0m                                 Traceback (most recent call last)",
      "Cell \u001b[1;32mIn[7], line 1\u001b[0m\n\u001b[1;32m----> 1\u001b[0m total_wicket_each_year \u001b[38;5;241m=\u001b[39m ipl_bbbc\u001b[38;5;241m.\u001b[39mgroupby([\u001b[38;5;124m\"\u001b[39m\u001b[38;5;124myear\u001b[39m\u001b[38;5;124m\"\u001b[39m, \u001b[38;5;124m\"\u001b[39m\u001b[38;5;124mBowler\u001b[39m\u001b[38;5;124m\"\u001b[39m])[\u001b[38;5;124m\"\u001b[39m\u001b[38;5;124mwicket_confirmation\u001b[39m\u001b[38;5;124m\"\u001b[39m]\u001b[38;5;241m.\u001b[39msum()\u001b[38;5;241m.\u001b[39mreset_index()\n",
      "\u001b[1;31mNameError\u001b[0m: name 'ipl_bbbc' is not defined"
     ]
    }
   ],
   "source": [
    "total_wicket_each_year = ipl_bbbc.groupby([\"year\", \"Bowler\"])[\"wicket_confirmation\"].sum().reset_index()"
   ]
  },
  {
   "cell_type": "code",
   "execution_count": 8,
   "id": "b6a46d55",
   "metadata": {
    "ExecuteTime": {
     "end_time": "2024-06-17T19:23:10.311435Z",
     "start_time": "2024-06-17T19:23:10.298595Z"
    }
   },
   "outputs": [
    {
     "ename": "NameError",
     "evalue": "name 'total_wicket_each_year' is not defined",
     "output_type": "error",
     "traceback": [
      "\u001b[1;31m---------------------------------------------------------------------------\u001b[0m",
      "\u001b[1;31mNameError\u001b[0m                                 Traceback (most recent call last)",
      "Cell \u001b[1;32mIn[8], line 1\u001b[0m\n\u001b[1;32m----> 1\u001b[0m total_wicket_each_year\u001b[38;5;241m.\u001b[39msort_values([\u001b[38;5;124m\"\u001b[39m\u001b[38;5;124myear\u001b[39m\u001b[38;5;124m\"\u001b[39m, \u001b[38;5;124m\"\u001b[39m\u001b[38;5;124mwicket_confirmation\u001b[39m\u001b[38;5;124m\"\u001b[39m], ascending\u001b[38;5;241m=\u001b[39m\u001b[38;5;28;01mFalse\u001b[39;00m, inplace\u001b[38;5;241m=\u001b[39m\u001b[38;5;28;01mTrue\u001b[39;00m)\n\u001b[0;32m      2\u001b[0m \u001b[38;5;28mprint\u001b[39m(total_wicket_each_year)\n",
      "\u001b[1;31mNameError\u001b[0m: name 'total_wicket_each_year' is not defined"
     ]
    }
   ],
   "source": [
    "total_wicket_each_year.sort_values([\"year\", \"wicket_confirmation\"], ascending=False, inplace=True)\n",
    "print(total_wicket_each_year)"
   ]
  },
  {
   "cell_type": "code",
   "execution_count": 9,
   "id": "837998fd",
   "metadata": {
    "ExecuteTime": {
     "end_time": "2024-06-17T19:24:02.853357Z",
     "start_time": "2024-06-17T19:24:02.840409Z"
    }
   },
   "outputs": [
    {
     "ename": "NameError",
     "evalue": "name 'total_wicket_each_year' is not defined",
     "output_type": "error",
     "traceback": [
      "\u001b[1;31m---------------------------------------------------------------------------\u001b[0m",
      "\u001b[1;31mNameError\u001b[0m                                 Traceback (most recent call last)",
      "Cell \u001b[1;32mIn[9], line 2\u001b[0m\n\u001b[0;32m      1\u001b[0m list_top_bowler_last_three_year \u001b[38;5;241m=\u001b[39m {}\n\u001b[1;32m----> 2\u001b[0m \u001b[38;5;28;01mfor\u001b[39;00m i \u001b[38;5;129;01min\u001b[39;00m total_wicket_each_year[\u001b[38;5;124m\"\u001b[39m\u001b[38;5;124myear\u001b[39m\u001b[38;5;124m\"\u001b[39m]\u001b[38;5;241m.\u001b[39munique()[:\u001b[38;5;241m3\u001b[39m]:\n\u001b[0;32m      3\u001b[0m     list_top_bowler_last_three_year[i] \u001b[38;5;241m=\u001b[39m total_wicket_each_year[total_wicket_each_year\u001b[38;5;241m.\u001b[39myear \u001b[38;5;241m==\u001b[39m i][:\u001b[38;5;241m3\u001b[39m][\u001b[38;5;124m\"\u001b[39m\u001b[38;5;124mBowler\u001b[39m\u001b[38;5;124m\"\u001b[39m]\u001b[38;5;241m.\u001b[39munique()\u001b[38;5;241m.\u001b[39mtolist()\n\u001b[0;32m      4\u001b[0m list_top_bowler_last_three_year\n",
      "\u001b[1;31mNameError\u001b[0m: name 'total_wicket_each_year' is not defined"
     ]
    }
   ],
   "source": [
    "list_top_bowler_last_three_year = {}\n",
    "for i in total_wicket_each_year[\"year\"].unique()[:3]:\n",
    "    list_top_bowler_last_three_year[i] = total_wicket_each_year[total_wicket_each_year.year == i][:3][\"Bowler\"].unique().tolist()\n",
    "list_top_bowler_last_three_year"
   ]
  },
  {
   "cell_type": "code",
   "execution_count": 10,
   "id": "6bab9324",
   "metadata": {
    "ExecuteTime": {
     "end_time": "2024-06-17T19:41:47.739428Z",
     "start_time": "2024-06-17T19:40:24.043467Z"
    },
    "scrolled": true
   },
   "outputs": [
    {
     "ename": "NameError",
     "evalue": "name 'ipl_bbbc' is not defined",
     "output_type": "error",
     "traceback": [
      "\u001b[1;31m---------------------------------------------------------------------------\u001b[0m",
      "\u001b[1;31mNameError\u001b[0m                                 Traceback (most recent call last)",
      "Cell \u001b[1;32mIn[10], line 3\u001b[0m\n\u001b[0;32m      1\u001b[0m \u001b[38;5;28;01mimport\u001b[39;00m \u001b[38;5;21;01mwarnings\u001b[39;00m\n\u001b[0;32m      2\u001b[0m warnings\u001b[38;5;241m.\u001b[39mfilterwarnings(\u001b[38;5;124m'\u001b[39m\u001b[38;5;124mignore\u001b[39m\u001b[38;5;124m'\u001b[39m)\n\u001b[1;32m----> 3\u001b[0m wickets \u001b[38;5;241m=\u001b[39m ipl_bbbc\u001b[38;5;241m.\u001b[39mgroupby([\u001b[38;5;124m'\u001b[39m\u001b[38;5;124mBowler\u001b[39m\u001b[38;5;124m'\u001b[39m,\u001b[38;5;124m'\u001b[39m\u001b[38;5;124mMatch id\u001b[39m\u001b[38;5;124m'\u001b[39m])[[\u001b[38;5;124m'\u001b[39m\u001b[38;5;124mwicket_confirmation\u001b[39m\u001b[38;5;124m'\u001b[39m]]\u001b[38;5;241m.\u001b[39msum()\u001b[38;5;241m.\u001b[39mreset_index()\n\u001b[0;32m      5\u001b[0m \u001b[38;5;28;01mfor\u001b[39;00m key \u001b[38;5;129;01min\u001b[39;00m list_top_bowler_last_three_year:\n\u001b[0;32m      6\u001b[0m     \u001b[38;5;28;01mfor\u001b[39;00m bowler \u001b[38;5;129;01min\u001b[39;00m list_top_bowler_last_three_year[key]:\n",
      "\u001b[1;31mNameError\u001b[0m: name 'ipl_bbbc' is not defined"
     ]
    }
   ],
   "source": [
    "import warnings\n",
    "warnings.filterwarnings('ignore')\n",
    "wickets = ipl_bbbc.groupby(['Bowler','Match id'])[['wicket_confirmation']].sum().reset_index()\n",
    "\n",
    "for key in list_top_bowler_last_three_year:\n",
    "    for bowler in list_top_bowler_last_three_year[key]:\n",
    "        print(\"************************\")\n",
    "        print(\"year:\", key, \" Bowler:\", bowler)\n",
    "        get_best_distribution(wickets[wickets[\"Bowler\"] == bowler][\"wicket_confirmation\"])\n",
    "        print(\"\\n\\n\")"
   ]
  },
  {
   "cell_type": "code",
   "execution_count": 11,
   "id": "559cf080-c4a5-4c55-817f-7212271e6712",
   "metadata": {},
   "outputs": [
    {
     "ename": "NameError",
     "evalue": "name 'runs' is not defined",
     "output_type": "error",
     "traceback": [
      "\u001b[1;31m---------------------------------------------------------------------------\u001b[0m",
      "\u001b[1;31mNameError\u001b[0m                                 Traceback (most recent call last)",
      "Cell \u001b[1;32mIn[11], line 2\u001b[0m\n\u001b[0;32m      1\u001b[0m \u001b[38;5;66;03m# Filter the runs scored by DA Miller\u001b[39;00m\n\u001b[1;32m----> 2\u001b[0m DA_Miller_runs \u001b[38;5;241m=\u001b[39m runs[runs[\u001b[38;5;124m\"\u001b[39m\u001b[38;5;124mStriker\u001b[39m\u001b[38;5;124m\"\u001b[39m] \u001b[38;5;241m==\u001b[39m \u001b[38;5;124m\"\u001b[39m\u001b[38;5;124mDA Miller\u001b[39m\u001b[38;5;124m\"\u001b[39m][\u001b[38;5;124m\"\u001b[39m\u001b[38;5;124mruns_scored\u001b[39m\u001b[38;5;124m\"\u001b[39m]\n\u001b[0;32m      4\u001b[0m \u001b[38;5;66;03m# Fit the distribution to DA Miller's runs scored\u001b[39;00m\n\u001b[0;32m      5\u001b[0m get_best_distribution(DA_Miller_runs)\n",
      "\u001b[1;31mNameError\u001b[0m: name 'runs' is not defined"
     ]
    }
   ],
   "source": [
    "# Filter the runs scored by DA Miller\n",
    "DA_Miller_runs = runs[runs[\"Striker\"] == \"DA Miller\"][\"runs_scored\"]\n",
    "\n",
    "# Fit the distribution to DA Miller's runs scored\n",
    "get_best_distribution(DA_Miller_runs)"
   ]
  },
  {
   "cell_type": "markdown",
   "id": "3738f046",
   "metadata": {
    "ExecuteTime": {
     "end_time": "2024-06-17T19:30:56.139137Z",
     "start_time": "2024-06-17T19:30:56.136008Z"
    }
   },
   "source": [
    "**Relationship between the performance of a player and the salary he gets**"
   ]
  },
  {
   "cell_type": "code",
   "execution_count": 12,
   "id": "789ddaf2",
   "metadata": {
    "ExecuteTime": {
     "end_time": "2024-06-17T19:57:30.473869Z",
     "start_time": "2024-06-17T19:57:30.467885Z"
    }
   },
   "outputs": [
    {
     "ename": "NameError",
     "evalue": "name 'total_run_each_year' is not defined",
     "output_type": "error",
     "traceback": [
      "\u001b[1;31m---------------------------------------------------------------------------\u001b[0m",
      "\u001b[1;31mNameError\u001b[0m                                 Traceback (most recent call last)",
      "Cell \u001b[1;32mIn[12], line 1\u001b[0m\n\u001b[1;32m----> 1\u001b[0m R2024 \u001b[38;5;241m=\u001b[39mtotal_run_each_year[total_run_each_year[\u001b[38;5;124m'\u001b[39m\u001b[38;5;124myear\u001b[39m\u001b[38;5;124m'\u001b[39m]\u001b[38;5;241m==\u001b[39m\u001b[38;5;241m2024\u001b[39m]\n",
      "\u001b[1;31mNameError\u001b[0m: name 'total_run_each_year' is not defined"
     ]
    }
   ],
   "source": [
    "R2024 =total_run_each_year[total_run_each_year['year']==2024]"
   ]
  },
  {
   "cell_type": "code",
   "execution_count": 13,
   "id": "6ba9a083",
   "metadata": {
    "ExecuteTime": {
     "end_time": "2024-06-17T20:15:26.949292Z",
     "start_time": "2024-06-17T20:15:26.944738Z"
    }
   },
   "outputs": [
    {
     "name": "stdout",
     "output_type": "stream",
     "text": [
      "Defaulting to user installation because normal site-packages is not writeable\n",
      "Collecting fuzzywuzzy\n",
      "  Obtaining dependency information for fuzzywuzzy from https://files.pythonhosted.org/packages/43/ff/74f23998ad2f93b945c0309f825be92e04e0348e062026998b5eefef4c33/fuzzywuzzy-0.18.0-py2.py3-none-any.whl.metadata\n",
      "  Downloading fuzzywuzzy-0.18.0-py2.py3-none-any.whl.metadata (4.9 kB)\n",
      "Downloading fuzzywuzzy-0.18.0-py2.py3-none-any.whl (18 kB)\n",
      "Installing collected packages: fuzzywuzzy\n",
      "Successfully installed fuzzywuzzy-0.18.0\n",
      "Note: you may need to restart the kernel to use updated packages.\n"
     ]
    }
   ],
   "source": [
    "pip install fuzzywuzzy"
   ]
  },
  {
   "cell_type": "code",
   "execution_count": 14,
   "id": "ccd0c41e",
   "metadata": {
    "ExecuteTime": {
     "end_time": "2024-06-17T20:15:41.651153Z",
     "start_time": "2024-06-17T20:15:33.461692Z"
    }
   },
   "outputs": [
    {
     "ename": "ModuleNotFoundError",
     "evalue": "No module named 'fuzzywuzzy'",
     "output_type": "error",
     "traceback": [
      "\u001b[1;31m---------------------------------------------------------------------------\u001b[0m",
      "\u001b[1;31mModuleNotFoundError\u001b[0m                       Traceback (most recent call last)",
      "Cell \u001b[1;32mIn[14], line 1\u001b[0m\n\u001b[1;32m----> 1\u001b[0m \u001b[38;5;28;01mfrom\u001b[39;00m \u001b[38;5;21;01mfuzzywuzzy\u001b[39;00m \u001b[38;5;28;01mimport\u001b[39;00m process\n\u001b[0;32m      3\u001b[0m \u001b[38;5;66;03m# Convert to DataFrame\u001b[39;00m\n\u001b[0;32m      4\u001b[0m df_salary \u001b[38;5;241m=\u001b[39m ipl_salary\u001b[38;5;241m.\u001b[39mcopy()\n",
      "\u001b[1;31mModuleNotFoundError\u001b[0m: No module named 'fuzzywuzzy'"
     ]
    }
   ],
   "source": [
    "from fuzzywuzzy import process\n",
    "\n",
    "# Convert to DataFrame\n",
    "df_salary = ipl_salary.copy()\n",
    "df_runs = R2024.copy()\n",
    "\n",
    "# Function to match names\n",
    "def match_names(name, names_list):\n",
    "    match, score = process.extractOne(name, names_list)\n",
    "    return match if score >= 80 else None  # Use a threshold score of 80\n",
    "\n",
    "# Create a new column in df_salary with matched names from df_runs\n",
    "df_salary['Matched_Player'] = df_salary['Player'].apply(lambda x: match_names(x, df_runs['Striker'].tolist()))\n",
    "\n",
    "# Merge the DataFrames on the matched names\n",
    "df_merged = pd.merge(df_salary, df_runs, left_on='Matched_Player', right_on='Striker')"
   ]
  },
  {
   "cell_type": "code",
   "execution_count": null,
   "id": "307e8a5f",
   "metadata": {
    "ExecuteTime": {
     "end_time": "2024-06-17T20:08:31.379361Z",
     "start_time": "2024-06-17T20:08:31.346734Z"
    }
   },
   "outputs": [],
   "source": [
    "df_merged.info()"
   ]
  },
  {
   "cell_type": "code",
   "execution_count": 1,
   "id": "d24035b7",
   "metadata": {
    "ExecuteTime": {
     "end_time": "2024-06-17T20:08:37.821228Z",
     "start_time": "2024-06-17T20:08:37.774094Z"
    }
   },
   "outputs": [
    {
     "ename": "NameError",
     "evalue": "name 'df_merged' is not defined",
     "output_type": "error",
     "traceback": [
      "\u001b[1;31m---------------------------------------------------------------------------\u001b[0m",
      "\u001b[1;31mNameError\u001b[0m                                 Traceback (most recent call last)",
      "Cell \u001b[1;32mIn[1], line 2\u001b[0m\n\u001b[0;32m      1\u001b[0m \u001b[38;5;66;03m# Calculate the correlation\u001b[39;00m\n\u001b[1;32m----> 2\u001b[0m correlation \u001b[38;5;241m=\u001b[39m df_merged[\u001b[38;5;124m'\u001b[39m\u001b[38;5;124mRs\u001b[39m\u001b[38;5;124m'\u001b[39m]\u001b[38;5;241m.\u001b[39mcorr(df_merged[\u001b[38;5;124m'\u001b[39m\u001b[38;5;124mruns_scored\u001b[39m\u001b[38;5;124m'\u001b[39m])\n\u001b[0;32m      4\u001b[0m \u001b[38;5;28mprint\u001b[39m(\u001b[38;5;124m\"\u001b[39m\u001b[38;5;124mCorrelation between Salary and Runs:\u001b[39m\u001b[38;5;124m\"\u001b[39m, correlation)\n",
      "\u001b[1;31mNameError\u001b[0m: name 'df_merged' is not defined"
     ]
    }
   ],
   "source": [
    "# Calculate the correlation\n",
    "correlation = df_merged['Rs'].corr(df_merged['runs_scored'])\n",
    "\n",
    "print(\"Correlation between Salary and Runs:\", correlation)"
   ]
  },
  {
   "cell_type": "code",
   "execution_count": null,
   "id": "f3d659a1",
   "metadata": {},
   "outputs": [],
   "source": []
  }
 ],
 "metadata": {
  "kernelspec": {
   "display_name": "Python 3 (ipykernel)",
   "language": "python",
   "name": "python3"
  },
  "language_info": {
   "codemirror_mode": {
    "name": "ipython",
    "version": 3
   },
   "file_extension": ".py",
   "mimetype": "text/x-python",
   "name": "python",
   "nbconvert_exporter": "python",
   "pygments_lexer": "ipython3",
   "version": "3.11.5"
  },
  "varInspector": {
   "cols": {
    "lenName": 16,
    "lenType": 16,
    "lenVar": 40
   },
   "kernels_config": {
    "python": {
     "delete_cmd_postfix": "",
     "delete_cmd_prefix": "del ",
     "library": "var_list.py",
     "varRefreshCmd": "print(var_dic_list())"
    },
    "r": {
     "delete_cmd_postfix": ") ",
     "delete_cmd_prefix": "rm(",
     "library": "var_list.r",
     "varRefreshCmd": "cat(var_dic_list()) "
    }
   },
   "types_to_exclude": [
    "module",
    "function",
    "builtin_function_or_method",
    "instance",
    "_Feature"
   ],
   "window_display": false
  }
 },
 "nbformat": 4,
 "nbformat_minor": 5
}
